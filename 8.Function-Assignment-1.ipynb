{
 "cells": [
  {
   "cell_type": "raw",
   "id": "7d64a9fd-2183-4af0-84f5-b93fb7431443",
   "metadata": {},
   "source": [
    "# Create a class and function, and list out the items in the list"
   ]
  },
  {
   "cell_type": "code",
   "execution_count": 1,
   "id": "a3166c22-6831-43a8-84fe-8311982a30f5",
   "metadata": {},
   "outputs": [],
   "source": [
    "list1 = [\"Machine Learning\",\"Neural Networks\",\"Vision\",\"Robotics\",\"Speech Processing\",\"Natural Language Processing\"]"
   ]
  },
  {
   "cell_type": "code",
   "execution_count": 2,
   "id": "07919fd8-c7b8-479c-8d12-46fca071dc08",
   "metadata": {},
   "outputs": [],
   "source": [
    "def Subfields():\n",
    "    print(\"Sub-fields in AI are:\")\n",
    "    for itemdata in list1:\n",
    "        print(itemdata)"
   ]
  },
  {
   "cell_type": "code",
   "execution_count": 3,
   "id": "06ae0f8f-7c07-4fd1-9f58-1f056e52535b",
   "metadata": {},
   "outputs": [
    {
     "name": "stdout",
     "output_type": "stream",
     "text": [
      "Sub-fields in AI are:\n",
      "Machine Learning\n",
      "Neural Networks\n",
      "Vision\n",
      "Robotics\n",
      "Speech Processing\n",
      "Natural Language Processing\n"
     ]
    }
   ],
   "source": [
    "Subfields()"
   ]
  },
  {
   "cell_type": "raw",
   "id": "4d48a37f-7f5f-4e14-9073-b1809b99e54d",
   "metadata": {},
   "source": [
    "# Create a function that checks whether the given number is Odd or Even"
   ]
  },
  {
   "cell_type": "code",
   "execution_count": 4,
   "id": "ade7df1e-f15a-46d2-b061-f2c4309d39d5",
   "metadata": {},
   "outputs": [],
   "source": [
    "def OddEven():\n",
    "    num = int(input(\"Enter a number:\"))\n",
    "    if((num%2) == 0):\n",
    "        print(num,\"is Even Number\")\n",
    "    else:\n",
    "        print(num,\"is Odd Number\")"
   ]
  },
  {
   "cell_type": "code",
   "execution_count": null,
   "id": "83e819af-873a-4b1d-90d6-c0b1bef2ca8e",
   "metadata": {},
   "outputs": [],
   "source": [
    "OddEven()"
   ]
  },
  {
   "cell_type": "raw",
   "id": "7d96a7e1-9c72-41a1-80d6-c2c585a8b1c3",
   "metadata": {},
   "source": [
    "# Create a function that tells elegibility of marriage for male and female according to their age limit like 21 for male and 18 for female\n"
   ]
  },
  {
   "cell_type": "code",
   "execution_count": 36,
   "id": "ed2e54de-e104-4aac-ae63-9d43990c4645",
   "metadata": {},
   "outputs": [],
   "source": [
    "def Eligible():\n",
    "    gender = input(\"Your Gender:\")\n",
    "    age = int(input(\"Your Age:\"))\n",
    "    \n",
    "    if (gender == \"Male\" and age >= 21) or (gender == \"Female\" and age >= 18):\n",
    "        print(\"Eligible\")\n",
    "    else:\n",
    "        print(\"Not Eligible\")\n",
    "              \n",
    "    "
   ]
  },
  {
   "cell_type": "code",
   "execution_count": 37,
   "id": "e1d63120-a4d1-4028-98a2-90d76635d7e5",
   "metadata": {},
   "outputs": [
    {
     "name": "stdout",
     "output_type": "stream",
     "text": [
      "Your Gender: Male\n",
      "Your Age: 23\n"
     ]
    },
    {
     "name": "stdout",
     "output_type": "stream",
     "text": [
      "Eligible\n"
     ]
    }
   ],
   "source": [
    "Eligible()"
   ]
  },
  {
   "cell_type": "raw",
   "id": "fc7c77d7-63df-4adf-882d-89aea982dae5",
   "metadata": {},
   "source": [
    "# calculate the percentage of your 10th mark"
   ]
  },
  {
   "cell_type": "code",
   "execution_count": 44,
   "id": "508dc023-5f1e-41b5-a2e6-44884a09f6bc",
   "metadata": {},
   "outputs": [],
   "source": [
    "def Percentage():\n",
    "    subject1 = int(input(\"Subject1:\"))\n",
    "    subject2 = int(input(\"Subject2:\"))\n",
    "    subject3 = int(input(\"Subject3:\"))\n",
    "    subject4 = int(input(\"Subject4:\"))\n",
    "    subject5 = int(input(\"Subject5:\"))\n",
    "    total = subject1 + subject2 + subject3 + subject4 + subject5\n",
    "    percentage = total/5\n",
    "    print(\"Total:\",total)\n",
    "    print(\"Percentage:\",percentage)\n",
    "              \n",
    "    "
   ]
  },
  {
   "cell_type": "code",
   "execution_count": 43,
   "id": "1961b2c7-07dc-4d21-aaa6-cf3d70a1f4fa",
   "metadata": {},
   "outputs": [
    {
     "name": "stdout",
     "output_type": "stream",
     "text": [
      "Subject1: 56\n",
      "Subject2: 77\n",
      "Subject3: 65\n",
      "Subject4: 86\n",
      "Subject5: 58\n"
     ]
    },
    {
     "name": "stdout",
     "output_type": "stream",
     "text": [
      "Total: 342\n",
      "Percentage 68.4\n"
     ]
    }
   ],
   "source": [
    "Percentage()"
   ]
  },
  {
   "cell_type": "code",
   "execution_count": 46,
   "id": "04c7f841-b2c0-4dad-86e4-e3c5a715646a",
   "metadata": {},
   "outputs": [],
   "source": [
    "def Triangle():\n",
    "    height = int(input(\"height:\"))\n",
    "    breadth = int(input(\"breadth:\"))\n",
    "    areaoftriangle = (height * breadth)/2\n",
    "    print(\"Area of Triangle:\", areaoftriangle)\n",
    "    height1 = int(input(\"height1:\"))\n",
    "    height2 = int(input(\"height2:\"))\n",
    "    breadth1 = int(input(\"breadth1:\"))\n",
    "    perimeteroftriangle = height1 + height2 +  breadth1\n",
    "    print(\"Perimeter of Triangle:\", perimeteroftriangle)"
   ]
  },
  {
   "cell_type": "code",
   "execution_count": 47,
   "id": "5fa61b5f-b85a-4329-a2a5-faf87ff86911",
   "metadata": {},
   "outputs": [
    {
     "name": "stdout",
     "output_type": "stream",
     "text": [
      "height: 24\n",
      "breadth: 44\n"
     ]
    },
    {
     "name": "stdout",
     "output_type": "stream",
     "text": [
      "Area of Triangle: 528.0\n"
     ]
    },
    {
     "name": "stdout",
     "output_type": "stream",
     "text": [
      "height1: 23\n",
      "height2: 12\n",
      "breadth1: 45\n"
     ]
    },
    {
     "name": "stdout",
     "output_type": "stream",
     "text": [
      "Perimeter of Triangle: 80\n"
     ]
    }
   ],
   "source": [
    "Triangle()"
   ]
  }
 ],
 "metadata": {
  "kernelspec": {
   "display_name": "Python 3",
   "language": "python",
   "name": "python3"
  },
  "language_info": {
   "codemirror_mode": {
    "name": "ipython",
    "version": 3
   },
   "file_extension": ".py",
   "mimetype": "text/x-python",
   "name": "python",
   "nbconvert_exporter": "python",
   "pygments_lexer": "ipython3",
   "version": "3.12.1"
  }
 },
 "nbformat": 4,
 "nbformat_minor": 5
}
