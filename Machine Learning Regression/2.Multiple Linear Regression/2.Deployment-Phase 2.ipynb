{
 "cells": [
  {
   "cell_type": "code",
   "execution_count": 1,
   "id": "68f772dc-1a7b-404d-bc7f-9ca14637605e",
   "metadata": {},
   "outputs": [],
   "source": [
    "import pickle"
   ]
  },
  {
   "cell_type": "code",
   "execution_count": 3,
   "id": "f2b86e3c-0520-4aef-9030-5cb920628bc9",
   "metadata": {},
   "outputs": [
    {
     "name": "stderr",
     "output_type": "stream",
     "text": [
      "C:\\Users\\ping2\\anaconda3\\Lib\\site-packages\\sklearn\\utils\\validation.py:2739: UserWarning: X does not have valid feature names, but LinearRegression was fitted with feature names\n",
      "  warnings.warn(\n"
     ]
    }
   ],
   "source": [
    "loaded_model = pickle.load(open(\"finalized_model_Multiplelinear.sav\",'rb'))\n",
    "result = loaded_model.predict([[345,56454,34344,1,0]])"
   ]
  },
  {
   "cell_type": "code",
   "execution_count": 4,
   "id": "1a7155f1-5d7c-443f-ab87-8850c365fa2b",
   "metadata": {},
   "outputs": [
    {
     "data": {
      "text/plain": [
       "array([[45909.64506753]])"
      ]
     },
     "execution_count": 4,
     "metadata": {},
     "output_type": "execute_result"
    }
   ],
   "source": [
    "result"
   ]
  },
  {
   "cell_type": "code",
   "execution_count": null,
   "id": "faf89340-7bae-4bc6-9115-9e7335774938",
   "metadata": {},
   "outputs": [],
   "source": []
  }
 ],
 "metadata": {
  "kernelspec": {
   "display_name": "Python [conda env:base] *",
   "language": "python",
   "name": "conda-base-py"
  },
  "language_info": {
   "codemirror_mode": {
    "name": "ipython",
    "version": 3
   },
   "file_extension": ".py",
   "mimetype": "text/x-python",
   "name": "python",
   "nbconvert_exporter": "python",
   "pygments_lexer": "ipython3",
   "version": "3.13.5"
  }
 },
 "nbformat": 4,
 "nbformat_minor": 5
}
